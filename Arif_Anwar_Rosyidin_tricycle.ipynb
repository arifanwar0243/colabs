{
  "nbformat": 4,
  "nbformat_minor": 0,
  "metadata": {
    "colab": {
      "provenance": [],
      "authorship_tag": "ABX9TyOuOdeaAGFbLo+/izfRATP0",
      "include_colab_link": true
    },
    "kernelspec": {
      "name": "python3",
      "display_name": "Python 3"
    },
    "language_info": {
      "name": "python"
    }
  },
  "cells": [
    {
      "cell_type": "markdown",
      "metadata": {
        "id": "view-in-github",
        "colab_type": "text"
      },
      "source": [
        "<a href=\"https://colab.research.google.com/github/arifanwar0243/colabs/blob/main/Arif_Anwar_Rosyidin_tricycle.ipynb\" target=\"_parent\"><img src=\"https://colab.research.google.com/assets/colab-badge.svg\" alt=\"Open In Colab\"/></a>"
      ]
    },
    {
      "cell_type": "code",
      "execution_count": 1,
      "metadata": {
        "colab": {
          "base_uri": "https://localhost:8080/",
          "height": 333
        },
        "id": "_fOTYF-ybBhO",
        "outputId": "3fc59cf7-be4b-4122-dce0-965360474ee3"
      },
      "outputs": [
        {
          "output_type": "display_data",
          "data": {
            "text/plain": [
              "<Figure size 432x288 with 1 Axes>"
            ],
            "image/png": "[encoded data removed]"
          },
          "metadata": {
            "needs_background": "light"
          }
        },
        {
          "output_type": "stream",
          "name": "stdout",
          "text": [
            "Posisi akhir =  [ 7.19912462 10.28891625]\n",
            "Sudut orientasi akhir =  140.6951445321172\n",
            "99\n"
          ]
        }
      ],
      "source": [
        "import numpy as np\n",
        "import matplotlib.pyplot as plt\n",
        "\n",
        "def rotation(theta):\n",
        "  R = np.array([[np.cos(theta), -np.sin(theta)], [np.sin(theta), np.cos(theta)]])\n",
        "  return R\n",
        "\n",
        "def objectdrawing(o, d, R):\n",
        "  i = np.array([1,0])\n",
        "  ii = R @ i \n",
        "  oo = o + d\n",
        "  plt.quiver(*oo, *ii, scale=1, color='b', scale_units='xy', angles = 'xy', width=0.005)\n",
        "  plt.scatter(oo[0], oo[1], color='k')\n",
        "\n",
        "def framedrawing(o, d, R):\n",
        "  i = np.array([1,0])\n",
        "  j = np.array([0,1])\n",
        "  ii = R @ i \n",
        "  jj = R @ j \n",
        "  oo = o + d\n",
        "  plt.quiver(*oo, *ii, scale=1, color='b', scale_units='xy', angles = 'xy', width=0.005)\n",
        "  plt.quiver(*oo, *jj, scale=1, color='g', scale_units='xy', angles = 'xy', width=0.005)\n",
        "\n",
        "\n",
        "#frame reference\n",
        "R0 = rotation(0)\n",
        "framedrawing(np.array([0,0]), np.array([0,0]), R0)\n",
        "\n",
        "#pose awal\n",
        "p = np.array([2.,3.])\n",
        "varphi = np.radians(30) \n",
        "X = np.array([p[0], p[1], varphi])\n",
        "R = rotation(varphi)\n",
        "o = np.array([0,0])\n",
        "\n",
        "#plot object pose awal\n",
        "objectdrawing(o, p, R)\n",
        "\n",
        "ts = 0.1\n",
        "t = np.arange(0, 10, ts)\n",
        "d = 0.5\n",
        "\n",
        "px = [p[0]]\n",
        "py = [p[1]]\n",
        "varphi_log= [varphi]\n",
        "alpha = np.radians(0)\n",
        "#alpha_dot = 0.1 #rad/s\n",
        "#vs = 5 # m/s\n",
        "\n",
        "for i in range(len(t)):\n",
        "  a = i * ts\n",
        "  #print(a)\n",
        "  if a <= 5 : \n",
        "    alpha_dot = 0.1\n",
        "    vs = 5\n",
        "  if a >= 5 : \n",
        "    alpha_dot = -0.5\n",
        "    vs = 2\n",
        "  x_dot = vs * np.cos(alpha) * np.cos(X[2])\n",
        "  y_dot = vs * np.cos(alpha) * np.sin(X[2])\n",
        "  omega = vs/d * np.sin(alpha)\n",
        "  Xi = np.array([x_dot, y_dot, omega])\n",
        "  X = X + ts * Xi\n",
        "  px.append(X[0])\n",
        "  py.append(X[1])\n",
        "  varphi_log.append(X[2])\n",
        "  alpha = alpha + alpha_dot * ts\n",
        "\n",
        "\n",
        "#plot object pose akhir\n",
        "varphi = X[2]\n",
        "R = rotation(varphi)\n",
        "p[0] = X[0]\n",
        "p[1] = X[1]\n",
        "objectdrawing(o, p, R)\n",
        "\n",
        "#plot trajectory\n",
        "plt.plot(px, py)\n",
        "\n",
        "plt.axis([ -1 , 7.5 , -1 ,15])\n",
        "plt.grid(linestyle='-.', linewidth=0.5)\n",
        "plt.xlabel(\"x(m)\")\n",
        "plt.ylabel(\"y(m)\")\n",
        "plt.show()\n",
        "\n",
        "\n",
        "print(\"Posisi akhir = \", p)\n",
        "print(\"Sudut orientasi akhir = \", np.degrees(varphi))\n",
        "print(i)"
      ]
    }
  ]
}