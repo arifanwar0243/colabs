{
  "cells": [
    {
      "cell_type": "markdown",
      "metadata": {
        "id": "view-in-github",
        "colab_type": "text"
      },
      "source": [
        "<a href=\"https://colab.research.google.com/github/arifanwar0243/colabs/blob/main/materi/6_Time_Delay_in_Dynamic_Systems_Copy1.ipynb\" target=\"_parent\"><img src=\"https://colab.research.google.com/assets/colab-badge.svg\" alt=\"Open In Colab\"/></a>"
      ]
    },
    {
      "cell_type": "markdown",
      "id": "63b9e1b2-2719-40f4-9b6d-7e43cc8fa1f9",
      "metadata": {
        "id": "63b9e1b2-2719-40f4-9b6d-7e43cc8fa1f9"
      },
      "source": [
        "# Time Delay in Dynamic Systems \n",
        "\n",
        "Time delay is a shift in the effect of an input on an output dynamic response. A first-order linear system with time delay is:\n",
        "\n",
        "$$\\tau_p \\dfrac{dy(t)}{dt} = -y(t) + K_p u\\left(t-\\theta_p\\right)$$\n",
        "\n",
        "has variables $y(t)$ and $u(t)$ and three unknown parameters with"
      ]
    },
    {
      "cell_type": "markdown",
      "id": "25005105-51f6-4a9b-9128-c482a6813896",
      "metadata": {
        "id": "25005105-51f6-4a9b-9128-c482a6813896"
      },
      "source": [
        "- $K_p$ is process gain\n",
        "- $\\tau_p$ is process time constant\n",
        "- $\\theta_p$ is process dead time\n",
        "\n",
        "The time delay $\\theta_p$ is expressed as a time shift in the input variable $u(t)$."
      ]
    },
    {
      "cell_type": "markdown",
      "id": "645c6ff9-6de6-4b5e-8dd6-fd46ab529f3c",
      "metadata": {
        "id": "645c6ff9-6de6-4b5e-8dd6-fd46ab529f3c"
      },
      "source": [
        "$$\n",
        "u\\left(t-\\theta_p\\right)\n",
        "$$\n",
        "\n",
        "$$\n",
        "y(t \\lt \\theta_p) = y(0)\n",
        "$$\n",
        "\n",
        "$$\n",
        "y(t \\ge \\theta_p) = \\left( e^{-\\left(t - \\theta_p \\right) / \\tau_p}\\right) y(0) + \\left( 1 - e^{-\\left(t - \\theta_p \\right) / \\tau_p} \\right) K_p \\Delta u\n",
        "$$"
      ]
    },
    {
      "cell_type": "markdown",
      "id": "3144949d-7950-4b90-89c9-71ecc5e04e43",
      "metadata": {
        "id": "3144949d-7950-4b90-89c9-71ecc5e04e43"
      },
      "source": [
        "For a step change $\\Delta u$ the analytical solution for a first-order linear system without time delay \n",
        "( $x(t) = y(t)$ with $\\theta_p=0$ ) \n",
        "\n",
        "$$\n",
        "\\tau_p \\dfrac{\\text{d}x(t)}{\\text{d}t} = -y(t) + K_p u\\left(t\\right)\n",
        "$$\n",
        "\n",
        "is\n",
        "\n",
        "\\begin{eqnarray}\n",
        "x(t) &=& K_p \\left(1-\\exp\\left(\\dfrac{-t}{\\tau_p}\\right)\\right) \\Delta u \\\\\n",
        "&=& K_p \\left( 1-e^{\\left(\\dfrac{-t}{\\tau_p}\\right)} \\right) \\Delta u\n",
        "\\end{eqnarray}\n",
        "\n",
        "With dead-time, the solution becomes:\n",
        "\\begin{eqnarray}\n",
        "y(t) &=& x \\left( t-\\theta_p \\right) S \\left( t-\\theta_p \\right) \\\\\n",
        "&=& K_p \\left( 1-  \\exp\\left(-\\dfrac{ t-\\theta_p } { \\tau_p } \\right) \\right) \\, \\Delta u \\, S \\left( t-\\theta_p \\right) \\\\\n",
        "&=& K_p \\left( 1-  e^{\\left(-\\dfrac{ t-\\theta_p } { \\tau_p } \\right)} \\right) \\, \\Delta u \\, S \\left( t-\\theta_p \\right)\n",
        "\\end{eqnarray}\n",
        "where $S\\left(t-\\theta_p\\right)$ is a step function that changes from zero to one at $t=\\theta_p$.\n",
        "\n"
      ]
    },
    {
      "cell_type": "markdown",
      "id": "48db173b-65db-4ac5-abca-100b197cadc9",
      "metadata": {
        "id": "48db173b-65db-4ac5-abca-100b197cadc9"
      },
      "source": [
        "## Analytic Solution Derivation with Laplace Transforms\n",
        "\n",
        "Start with the linear differential equation with time delay:\n",
        "$$\n",
        "\\tau_p \\dfrac{\\text{d}y(t)}{\\text{d}t} = -y(t) + K_p u\\left(t-\\theta_p\\right)\n",
        "$$\n",
        "\n",
        "Perform a Laplace transform from the tables on each part of the equation:\n",
        "$$\n",
        "\\mathcal{L}\\left(\\tau_p \\dfrac{\\text{d}y(t)}{\\text{d}t}\\right) = \\tau_p \\left(s Y(s) - y(0)\\right)\n",
        "$$\n",
        "\n",
        "$$\n",
        "\\mathcal{L}\\left(-y(t)\\right) = -Y(s)\n",
        "$$\n",
        "\n",
        "$$\n",
        "\\mathcal{L}\\left(K_p u\\left(t-\\theta_p\\right)\\right) = K_p U(s) e^{-\\theta_p s}\n",
        "$$\n",
        "\n",
        "If the input $U(s)$ is a step function of size $\\Delta u$ then:\n",
        "$$\n",
        "U(s) = \\dfrac{\\Delta u}{s}\n",
        "$$\n",
        "\n",
        "Combining all of the individual Laplace transforms, the equation in Laplace domain with zero initial condition $y(0)=0$ is then:\n",
        "\n",
        "$$\n",
        "\\tau_p \\, s \\, Y(s) = -Y(s) + K_p \\dfrac{\\Delta u}{s} e^{-\\theta_p s}\n",
        "$$\n",
        "\n",
        "and factoring out the $Y(s)$ term:\n",
        "$$\n",
        "Y(s) \\left(\\tau_p \\, s + 1\\right) = K_p \\dfrac{\\Delta u}{s} e^{-\\theta_p s}\n",
        "$$\n",
        "\n",
        "A final steps are to isolate $Y(s)$ on the left side of the equation and perform an inverse Laplace transform to return to the time domain:\n",
        "\n",
        "$$\n",
        "Y(s) = K_p \\dfrac{\\Delta u}{s\\,\\left(\\tau_p \\, s + 1\\right)} e^{-\\theta_p s}\n",
        "$$\n",
        "\n",
        "$$\n",
        "\\mathcal{L}^{-1}\\left(Y(s)\\right) = y(t) =  K_p \\left( 1-\\exp \\left( -\\frac{ \\left( t-\\theta_p \\right) } { \\tau_p } \\right) \\right) \\, \\Delta u \\, S \\left( t-\\theta_p \\right)\n",
        "$$\n",
        "\n"
      ]
    },
    {
      "cell_type": "code",
      "execution_count": 1,
      "id": "d1952e1d-a4f6-4d7c-b1d4-57499a479869",
      "metadata": {
        "id": "d1952e1d-a4f6-4d7c-b1d4-57499a479869",
        "outputId": "0543adfd-c332-4218-a7bf-f239ffef3a7d",
        "colab": {
          "base_uri": "https://localhost:8080/",
          "height": 256
        }
      },
      "outputs": [
        {
          "output_type": "display_data",
          "data": {
            "text/plain": [
              "<Figure size 432x288 with 2 Axes>"
            ],
            "image/png": "[encoded data removed]"
          },
          "metadata": {
            "needs_background": "light"
          }
        }
      ],
      "source": [
        "import numpy as np\n",
        "import matplotlib.pyplot as plt\n",
        "from scipy.integrate import odeint\n",
        "\n",
        "# specify number of steps\n",
        "ns = 100\n",
        "# define time points\n",
        "t = np.linspace(0,ns/10.0,ns+1)\n",
        "\n",
        "class model(object):\n",
        "    # process model\n",
        "    Kp = 2.0\n",
        "    taup = 200.0\n",
        "    thetap = 0.0\n",
        "\n",
        "def process(y,t,u,Kp,taup):\n",
        "    # Kp = process gain\n",
        "    # taup = process time constant\n",
        "    dydt = -y/taup + Kp/taup * u\n",
        "    return dydt\n",
        "\n",
        "def calc_response(t,m):\n",
        "    # t = time points\n",
        "    # m = process model\n",
        "    Kp = m.Kp\n",
        "    taup = m.taup\n",
        "    thetap = m.thetap\n",
        "    # specify number of steps\n",
        "    ns = len(t)-1\n",
        "\n",
        "    delta_t = t[1]-t[0]\n",
        "\n",
        "    # storage for recording values\n",
        "    op = np.zeros(ns+1)  # controller output\n",
        "    pv = np.zeros(ns+1)  # process variable\n",
        "\n",
        "    # step input\n",
        "    op[10:]=2.0\n",
        "\n",
        "    # Simulate time delay\n",
        "    ndelay = int(np.ceil(thetap / delta_t)) \n",
        "\n",
        "    # loop through time steps    \n",
        "    for i in range(0,ns):\n",
        "        # implement time delay\n",
        "        iop = max(0,i-ndelay)\n",
        "        y = odeint(process,pv[i],[0,delta_t],args=(op[iop],Kp,taup))\n",
        "        pv[i+1] = y[-1]\n",
        "    return (pv,op) \n",
        "\n",
        "# calculate step response\n",
        "model.Kp = 2.5\n",
        "model.taup = 2.0\n",
        "model.thetap = 3.0\n",
        "(pv,op) = calc_response(t,model)\n",
        "\n",
        "pv2 = np.zeros(len(t))\n",
        "for i in range(len(t)):\n",
        "    pv2[i] = model.Kp * (1.0 - np.exp(-(t[i]-model.thetap-1.0)/model.taup))*2.0\n",
        "\n",
        "pv3 = np.zeros(len(t))\n",
        "for i in range(len(t)):\n",
        "    pv3[i] = model.Kp * (1.0 - np.exp(-(t[i]-1.0)/model.taup))*2.0\n",
        "\n",
        "plt.figure(1)\n",
        "plt.subplot(2,1,1)\n",
        "frame1 = plt.gca()\n",
        "frame1.axes.get_xaxis().set_visible(False)\n",
        "plt.plot(t,pv3,'r--',linewidth=1,label=r'$y(t)$')\n",
        "plt.plot(t,pv2,'k.-',linewidth=2,label=r'$y(t-\\theta_p)$')\n",
        "plt.plot([0,4,4.0001,10],[0,0,1,1],'g:',linewidth=3,label=r'$S(t- \\theta _p)$')\n",
        "plt.plot(t,pv,'b-',linewidth=4,label=r'$x(t)$')\n",
        "plt.legend(loc='best')\n",
        "plt.ylabel('Process Output')\n",
        "plt.ylim([-4,5])\n",
        "\n",
        "plt.subplot(2,1,2)\n",
        "frame1 = plt.gca()\n",
        "frame1.axes.get_xaxis().set_visible(False)\n",
        "plt.plot(t,op,'r-',linewidth=3,label=r'$u(t)$')\n",
        "plt.plot(t+3.0,op,'k--',linewidth=3,label=r'$u(t-\\theta_p)$')\n",
        "plt.ylim([-0.1,2.1])\n",
        "plt.xlim([0,10])\n",
        "plt.legend(loc='best')\n",
        "plt.ylabel('Process Input')\n",
        "\n",
        "plt.xlabel('Time')\n",
        "\n",
        "plt.savefig('output.png')\n",
        "plt.show()"
      ]
    },
    {
      "cell_type": "code",
      "execution_count": null,
      "id": "fba3e0dd-3685-491e-a985-13ab2fa7b4f5",
      "metadata": {
        "id": "fba3e0dd-3685-491e-a985-13ab2fa7b4f5"
      },
      "outputs": [],
      "source": []
    }
  ],
  "metadata": {
    "kernelspec": {
      "display_name": "Python 3 (ipykernel)",
      "language": "python",
      "name": "python3"
    },
    "language_info": {
      "codemirror_mode": {
        "name": "ipython",
        "version": 3
      },
      "file_extension": ".py",
      "mimetype": "text/x-python",
      "name": "python",
      "nbconvert_exporter": "python",
      "pygments_lexer": "ipython3",
      "version": "3.9.7"
    },
    "colab": {
      "provenance": [],
      "include_colab_link": true
    }
  },
  "nbformat": 4,
  "nbformat_minor": 5
}