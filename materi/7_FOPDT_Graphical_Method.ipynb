{
  "cells": [
    {
      "cell_type": "markdown",
      "metadata": {
        "id": "view-in-github",
        "colab_type": "text"
      },
      "source": [
        "<a href=\"https://colab.research.google.com/github/arifanwar0243/colabs/blob/main/materi/7_FOPDT_Graphical_Method.ipynb\" target=\"_parent\"><img src=\"https://colab.research.google.com/assets/colab-badge.svg\" alt=\"Open In Colab\"/></a>"
      ]
    },
    {
      "cell_type": "markdown",
      "id": "7c65595c-eb4b-4354-a106-a42d753bd666",
      "metadata": {
        "id": "7c65595c-eb4b-4354-a106-a42d753bd666"
      },
      "source": [
        "# Graphical Method: FOPDT to Step Test\n",
        "\n",
        "Time delay is a shift in the effect of an input on an output dynamic response. A first-order linear system with time delay is:\n",
        "\n",
        "$$\\tau_p \\dfrac{dy(t)}{dt} = -y(t) + K_p u\\left(t-\\theta_p\\right)$$\n",
        "\n",
        "has variables $y(t)$ and $u(t)$ and three unknown parameters with\n",
        "- $K_p$ is process gain\n",
        "- $\\tau_p$ is process time constant\n",
        "- $\\theta_p$ is process dead time\n",
        "\n",
        "The time delay $\\theta_p$ is expressed as a time shift in the input variable $u(t)$.\n",
        "\n",
        "Step test data are convenient for identifying an FOPDT model through a graphical fitting method. Follow the following steps when fitting the parameters $K_p$, $\\tau_p$ and $\\theta_p$ to a step response\n",
        "\n",
        "1. Find $\\Delta y$ from step response\n",
        "2. Find $\\Delta u$ from step response\n",
        "3. Calculate $Kp=\\dfrac{\\Delta y}{\\Delta u}$\n",
        "4. Find $\\theta_p$, apparent dead time, from step response\n",
        "5. Find $0.632 \\Delta y$ from step response\n",
        "6. Find $t_{0.632}$ for $y(t=0.632)=0.632\\Delta y$ from step response\n",
        "7. Calculate $\\tau_p = t_{0.632} - \\theta_p$. This assumes that the step starts at $t=0$. If the step happens later, subtract the step time as well.\n"
      ]
    },
    {
      "cell_type": "code",
      "execution_count": 1,
      "id": "b080077d-9d8c-408a-8b46-a050cf397581",
      "metadata": {
        "id": "b080077d-9d8c-408a-8b46-a050cf397581",
        "outputId": "461885d3-53c9-416f-948f-a61720d8fcc4",
        "colab": {
          "base_uri": "https://localhost:8080/",
          "height": 265
        }
      },
      "outputs": [
        {
          "output_type": "display_data",
          "data": {
            "text/plain": [
              "<Figure size 432x288 with 2 Axes>"
            ],
            "image/png": "[encoded data removed]"
          },
          "metadata": {
            "needs_background": "light"
          }
        }
      ],
      "source": [
        "import numpy as np\n",
        "import matplotlib.pyplot as plt\n",
        "from scipy.integrate import odeint\n",
        "from scipy.optimize import minimize\n",
        "from scipy.interpolate import interp1d\n",
        "\n",
        "# define process model (to generate process data)\n",
        "def process(y,t,n,u,Kp,taup):\n",
        "    # arguments\n",
        "    #  y[n] = outputs\n",
        "    #  t    = time\n",
        "    #  n    = order of the system   \n",
        "    #  u    = input value\n",
        "    #  Kp   = process gain\n",
        "    #  taup = process time constant\n",
        "\n",
        "    # equations for higher order system\n",
        "    dydt = np.zeros(n)\n",
        "    # calculate derivative\n",
        "    dydt[0] = (-y[0] + Kp * u)/(taup/n)\n",
        "    for i in range(1,n):\n",
        "       dydt[i] = (-y[i] + y[i-1])/(taup/n)\n",
        "    return dydt\n",
        "\n",
        "# define first-order plus dead-time approximation    \n",
        "def fopdt(y,t,uf,Km,taum,thetam):\n",
        "    # arguments\n",
        "    #  y      = output\n",
        "    #  t      = time\n",
        "    #  uf     = input linear function (for time shift)\n",
        "    #  Km     = model gain\n",
        "    #  taum   = model time constant\n",
        "    #  thetam = model time constant\n",
        "    # time-shift u\n",
        "    try:\n",
        "        if (t-thetam) <= 0:\n",
        "            um = uf(0.0)\n",
        "        else:\n",
        "            um = uf(t-thetam)\n",
        "    except:\n",
        "        #print('Error with time extrapolation: ' + str(t))\n",
        "        um = 0\n",
        "    # calculate derivative\n",
        "    dydt = (-y + Km * um)/taum\n",
        "    return dydt\n",
        "\n",
        "# specify number of steps\n",
        "ns = 40\n",
        "# define time points\n",
        "t = np.linspace(0,16,ns+1)\n",
        "delta_t = t[1]-t[0]\n",
        "# define input vector\n",
        "u = np.zeros(ns+1)\n",
        "u[5:] = 1.0\n",
        "# create linear interpolation of the u data versus time\n",
        "uf = interp1d(t,u)\n",
        "\n",
        "# use this function or replace yp with real process data\n",
        "def sim_process_data():\n",
        "    # higher order process\n",
        "    n=10       # order\n",
        "    Kp=3.0    # gain\n",
        "    taup=5.0   # time constant\n",
        "    # storage for predictions or data\n",
        "    yp = np.zeros(ns+1)  # process\n",
        "    for i in range(1,ns+1):\n",
        "        if i==1:\n",
        "            yp0 = np.zeros(n)\n",
        "        ts = [delta_t*(i-1),delta_t*i]\n",
        "        y = odeint(process,yp0,ts,args=(n,u[i],Kp,taup))\n",
        "        yp0 = y[-1]\n",
        "        yp[i] = y[1][n-1]\n",
        "    return yp\n",
        "yp = sim_process_data()\n",
        "\n",
        "# simulate FOPDT model with x=[Km,taum,thetam]\n",
        "def sim_model(Km,taum,thetam):\n",
        "    # input arguments\n",
        "    #Km \n",
        "    #taum \n",
        "    #thetam \n",
        "    # storage for model values\n",
        "    ym = np.zeros(ns+1)  # model\n",
        "    # initial condition\n",
        "    ym[0] = 0\n",
        "    # loop through time steps    \n",
        "    for i in range(1,ns+1):\n",
        "        ts = [delta_t*(i-1),delta_t*i]\n",
        "        y1 = odeint(fopdt,ym[i-1],ts,args=(uf,Km,taum,thetam))\n",
        "        ym[i] = y1[-1]\n",
        "    return ym    \n",
        "\n",
        "# calculate model with updated parameters\n",
        "Km = 2.5\n",
        "taum = 3.0\n",
        "thetam = 5.0\n",
        "ym = sim_model(Km,taum,thetam)\n",
        "\n",
        "# plot results\n",
        "plt.figure()\n",
        "plt.subplot(2,1,1)\n",
        "plt.plot(t,ym,'r--',linewidth=3,label='Fit FOPDT')\n",
        "plt.plot(t,yp,'kx-',linewidth=2,label='Process Data')\n",
        "plt.ylabel('Output')\n",
        "plt.legend(loc='best')\n",
        "plt.subplot(2,1,2)\n",
        "plt.plot(t,u,'bx-',linewidth=2)\n",
        "plt.plot(t,uf(t),'r--',linewidth=3)\n",
        "plt.legend(['Measured','Interpolated'],loc='best')\n",
        "plt.ylabel('Input Data')\n",
        "plt.show()"
      ]
    },
    {
      "cell_type": "code",
      "execution_count": null,
      "id": "d94c6c11-7e50-4890-9259-85168efb0fb0",
      "metadata": {
        "id": "d94c6c11-7e50-4890-9259-85168efb0fb0"
      },
      "outputs": [],
      "source": []
    }
  ],
  "metadata": {
    "kernelspec": {
      "display_name": "Python 3 (ipykernel)",
      "language": "python",
      "name": "python3"
    },
    "language_info": {
      "codemirror_mode": {
        "name": "ipython",
        "version": 3
      },
      "file_extension": ".py",
      "mimetype": "text/x-python",
      "name": "python",
      "nbconvert_exporter": "python",
      "pygments_lexer": "ipython3",
      "version": "3.9.7"
    },
    "colab": {
      "provenance": [],
      "include_colab_link": true
    }
  },
  "nbformat": 4,
  "nbformat_minor": 5
}