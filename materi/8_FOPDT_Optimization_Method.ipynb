{
  "cells": [
    {
      "cell_type": "markdown",
      "metadata": {
        "id": "view-in-github",
        "colab_type": "text"
      },
      "source": [
        "<a href=\"https://colab.research.google.com/github/arifanwar0243/colabs/blob/main/materi/8_FOPDT_Optimization_Method.ipynb\" target=\"_parent\"><img src=\"https://colab.research.google.com/assets/colab-badge.svg\" alt=\"Open In Colab\"/></a>"
      ]
    },
    {
      "cell_type": "markdown",
      "id": "2f7b72f1-4821-4421-a8cb-78520fcb7897",
      "metadata": {
        "id": "2f7b72f1-4821-4421-a8cb-78520fcb7897"
      },
      "source": [
        "# Optimization Method: FOPDT to Data\n",
        "\n",
        "## Generate data"
      ]
    },
    {
      "cell_type": "code",
      "execution_count": null,
      "id": "e53ea6f1-57d8-4095-acbe-70e8a663eadb",
      "metadata": {
        "id": "e53ea6f1-57d8-4095-acbe-70e8a663eadb"
      },
      "outputs": [],
      "source": [
        "# Generate process data as data.txt\n",
        "import numpy as np\n",
        "import matplotlib.pyplot as plt\n",
        "from scipy.integrate import odeint\n",
        "\n",
        "# define process model (to generate process data)\n",
        "def process(y,t,n,u,Kp,taup):\n",
        "    # arguments\n",
        "    #  y[n] = outputs\n",
        "    #  t    = time\n",
        "    #  n    = order of the system   \n",
        "    #  u    = input value\n",
        "    #  Kp   = process gain\n",
        "    #  taup = process time constant\n",
        "\n",
        "    # equations for higher order system\n",
        "    dydt = np.zeros(n)\n",
        "    # calculate derivative\n",
        "    dydt[0] = (-y[0] + Kp * u)/(taup/n)\n",
        "    for i in range(1,n):\n",
        "       dydt[i] = (-y[i] + y[i-1])/(taup/n)\n",
        "    return dydt\n",
        "\n",
        "# specify number of steps\n",
        "ns = 50\n",
        "# define time points\n",
        "t = np.linspace(0,40,ns+1)\n",
        "delta_t = t[1]-t[0]\n",
        "# define input vector\n",
        "u = np.zeros(ns+1)\n",
        "u[5:20] = 1.0\n",
        "u[20:30] = 0.1\n",
        "u[30:] = 0.5\n",
        "\n",
        "# use this function or replace yp with real process data\n",
        "def sim_process_data():\n",
        "    # higher order process\n",
        "    n=10       # order\n",
        "    Kp=3.0    # gain\n",
        "    taup=5.0   # time constant\n",
        "    # storage for predictions or data\n",
        "    yp = np.zeros(ns+1)  # process\n",
        "    for i in range(1,ns+1):\n",
        "        if i==1:\n",
        "            yp0 = np.zeros(n)\n",
        "        ts = [delta_t*(i-1),delta_t*i]\n",
        "        y = odeint(process,yp0,ts,args=(n,u[i],Kp,taup))\n",
        "        yp0 = y[-1]\n",
        "        yp[i] = y[1][n-1]\n",
        "    return yp\n",
        "yp = sim_process_data()\n",
        "\n",
        "# Construct results and save data file\n",
        "# Column 1 = time\n",
        "# Column 2 = input\n",
        "# Column 3 = output\n",
        "data = np.vstack((t,u,yp)) # vertical stack\n",
        "data = data.T              # transpose data\n",
        "np.savetxt('data.txt',data,delimiter=',')\n",
        "\n",
        "# plot results\n",
        "plt.figure()\n",
        "plt.subplot(2,1,1)\n",
        "plt.plot(t,yp,'kx-',linewidth=2,label='Output')\n",
        "plt.ylabel('Output Data')\n",
        "plt.legend(loc='best')\n",
        "plt.subplot(2,1,2)\n",
        "plt.plot(t,u,'bx-',linewidth=2)\n",
        "plt.legend(['Input'],loc='best')\n",
        "plt.ylabel('Input Data')\n",
        "plt.show()"
      ]
    },
    {
      "cell_type": "markdown",
      "id": "92552b11-3715-444d-84c8-010921404454",
      "metadata": {
        "id": "92552b11-3715-444d-84c8-010921404454"
      },
      "source": [
        "## FOPDT Fit to Data: Scipy"
      ]
    },
    {
      "cell_type": "code",
      "execution_count": null,
      "id": "06e8db2a-1eba-4e63-ae0e-8fb915607d25",
      "metadata": {
        "id": "06e8db2a-1eba-4e63-ae0e-8fb915607d25",
        "outputId": "854416ca-aadc-464a-cadb-5a02fd78aee4"
      },
      "outputs": [
        {
          "name": "stdout",
          "output_type": "stream",
          "text": [
            "Initial SSE Objective: 29.039149620290683\n",
            "Final SSE Objective: 0.2970438986537482\n",
            "Kp: 3.0145715634183756\n",
            "taup: 1.858606328398455\n",
            "thetap: 2.936773114646818\n"
          ]
        },
        {
          "data": {
            "image/png": "[encoded data removed]",
            "text/plain": [
              "<Figure size 432x288 with 2 Axes>"
            ]
          },
          "metadata": {
            "needs_background": "light"
          },
          "output_type": "display_data"
        }
      ],
      "source": [
        "import numpy as np\n",
        "import pandas as pd\n",
        "import matplotlib.pyplot as plt\n",
        "from scipy.integrate import odeint\n",
        "from scipy.optimize import minimize\n",
        "from scipy.interpolate import interp1d\n",
        "\n",
        "# Import CSV data file\n",
        "# Column 1 = time (t)\n",
        "# Column 2 = input (u)\n",
        "# Column 3 = output (yp)\n",
        "data = pd.read_csv(\"data.txt\")\n",
        "t = data['time'].values - data['time'].values[0]\n",
        "u = data['u'].values\n",
        "yp = data['y'].values\n",
        "u0 = u[0]\n",
        "yp0 = yp[0]\n",
        "\n",
        "# specify number of steps\n",
        "ns = len(t)\n",
        "delta_t = t[1]-t[0]\n",
        "# create linear interpolation of the u data versus time\n",
        "uf = interp1d(t,u)\n",
        "\n",
        "# define first-order plus dead-time approximation    \n",
        "def fopdt(y,t,uf,Km,taum,thetam):\n",
        "    # arguments\n",
        "    #  y      = output\n",
        "    #  t      = time\n",
        "    #  uf     = input linear function (for time shift)\n",
        "    #  Km     = model gain\n",
        "    #  taum   = model time constant\n",
        "    #  thetam = model time constant\n",
        "    # time-shift u\n",
        "    try:\n",
        "        if (t-thetam) <= 0:\n",
        "            um = uf(0.0)\n",
        "        else:\n",
        "            um = uf(t-thetam)\n",
        "    except:\n",
        "        #print('Error with time extrapolation: ' + str(t))\n",
        "        um = u0\n",
        "    # calculate derivative\n",
        "    dydt = (-(y-yp0) + Km * (um-u0))/taum\n",
        "    return dydt\n",
        "\n",
        "# simulate FOPDT model with x=[Km,taum,thetam]\n",
        "def sim_model(x):\n",
        "    # input arguments\n",
        "    Km = x[0]\n",
        "    taum = x[1]\n",
        "    thetam = x[2]\n",
        "    # storage for model values\n",
        "    ym = np.zeros(ns)  # model\n",
        "    # initial condition\n",
        "    ym[0] = yp0\n",
        "    # loop through time steps    \n",
        "    for i in range(0,ns-1):\n",
        "        ts = [t[i],t[i+1]]\n",
        "        y1 = odeint(fopdt,ym[i],ts,args=(uf,Km,taum,thetam))\n",
        "        ym[i+1] = y1[-1]\n",
        "    return ym\n",
        "\n",
        "# define objective\n",
        "def objective(x):\n",
        "    # simulate model\n",
        "    ym = sim_model(x)\n",
        "    # calculate objective\n",
        "    obj = 0.0\n",
        "    for i in range(len(ym)):\n",
        "        obj = obj + (ym[i]-yp[i])**2    \n",
        "    # return result\n",
        "    return obj\n",
        "\n",
        "# initial guesses\n",
        "x0 = np.zeros(3)\n",
        "x0[0] = 2.0 # Km\n",
        "x0[1] = 3.0 # taum\n",
        "x0[2] = 0.0 # thetam\n",
        "\n",
        "# show initial objective\n",
        "print('Initial SSE Objective: ' + str(objective(x0)))\n",
        "\n",
        "# optimize Km, taum, thetam\n",
        "solution = minimize(objective,x0)\n",
        "\n",
        "# Another way to solve: with bounds on variables\n",
        "#bnds = ((0.4, 0.6), (1.0, 10.0), (0.0, 30.0))\n",
        "#solution = minimize(objective,x0,bounds=bnds,method='SLSQP')\n",
        "x = solution.x\n",
        "\n",
        "# show final objective\n",
        "print('Final SSE Objective: ' + str(objective(x)))\n",
        "\n",
        "print('Kp: ' + str(x[0]))\n",
        "print('taup: ' + str(x[1]))\n",
        "print('thetap: ' + str(x[2]))\n",
        "\n",
        "# calculate model with updated parameters\n",
        "ym1 = sim_model(x0)\n",
        "ym2 = sim_model(x)\n",
        "# plot results\n",
        "plt.figure()\n",
        "plt.subplot(2,1,1)\n",
        "plt.plot(t,yp,'kx-',linewidth=2,label='Process Data')\n",
        "plt.plot(t,ym1,'b-',linewidth=2,label='Initial Guess')\n",
        "plt.plot(t,ym2,'r--',linewidth=3,label='Optimized FOPDT')\n",
        "plt.ylabel('Output')\n",
        "plt.legend(loc='best')\n",
        "plt.subplot(2,1,2)\n",
        "plt.plot(t,u,'bx-',linewidth=2)\n",
        "plt.plot(t,uf(t),'r--',linewidth=3)\n",
        "plt.legend(['Measured','Interpolated'],loc='best')\n",
        "plt.ylabel('Input Data')\n",
        "plt.show()"
      ]
    },
    {
      "cell_type": "markdown",
      "id": "ebeb0d08-736a-44e6-bf69-c58f9f6b52bd",
      "metadata": {
        "id": "ebeb0d08-736a-44e6-bf69-c58f9f6b52bd"
      },
      "source": [
        "## FOPDT Fit to Data: Gekko"
      ]
    },
    {
      "cell_type": "code",
      "execution_count": null,
      "id": "63b539b4-b1de-4fc8-9537-b654162d1b54",
      "metadata": {
        "id": "63b539b4-b1de-4fc8-9537-b654162d1b54",
        "outputId": "e64ea847-51d9-4de4-bda3-3a8e49ae2187"
      },
      "outputs": [
        {
          "ename": "ModuleNotFoundError",
          "evalue": "No module named 'gekko'",
          "output_type": "error",
          "traceback": [
            "\u001b[0;31m---------------------------------------------------------------------------\u001b[0m",
            "\u001b[0;31mModuleNotFoundError\u001b[0m                       Traceback (most recent call last)",
            "\u001b[0;32m/var/folders/_x/g6zjhvmd2j7gn8zpkpk5h_740000gn/T/ipykernel_2427/1459527866.py\u001b[0m in \u001b[0;36m<module>\u001b[0;34m\u001b[0m\n\u001b[1;32m      1\u001b[0m \u001b[0;32mimport\u001b[0m \u001b[0mnumpy\u001b[0m \u001b[0;32mas\u001b[0m \u001b[0mnp\u001b[0m\u001b[0;34m\u001b[0m\u001b[0;34m\u001b[0m\u001b[0m\n\u001b[1;32m      2\u001b[0m \u001b[0;32mimport\u001b[0m \u001b[0mpandas\u001b[0m \u001b[0;32mas\u001b[0m \u001b[0mpd\u001b[0m\u001b[0;34m\u001b[0m\u001b[0;34m\u001b[0m\u001b[0m\n\u001b[0;32m----> 3\u001b[0;31m \u001b[0;32mfrom\u001b[0m \u001b[0mgekko\u001b[0m \u001b[0;32mimport\u001b[0m \u001b[0mGEKKO\u001b[0m\u001b[0;34m\u001b[0m\u001b[0;34m\u001b[0m\u001b[0m\n\u001b[0m\u001b[1;32m      4\u001b[0m \u001b[0;32mimport\u001b[0m \u001b[0mmatplotlib\u001b[0m\u001b[0;34m.\u001b[0m\u001b[0mpyplot\u001b[0m \u001b[0;32mas\u001b[0m \u001b[0mplt\u001b[0m\u001b[0;34m\u001b[0m\u001b[0;34m\u001b[0m\u001b[0m\n\u001b[1;32m      5\u001b[0m \u001b[0;34m\u001b[0m\u001b[0m\n",
            "\u001b[0;31mModuleNotFoundError\u001b[0m: No module named 'gekko'"
          ]
        }
      ],
      "source": [
        "import numpy as np\n",
        "import pandas as pd\n",
        "from gekko import GEKKO\n",
        "import matplotlib.pyplot as plt\n",
        "\n",
        "# Import CSV data file\n",
        "# Column 1 = time (t)\n",
        "# Column 2 = input (u)\n",
        "# Column 3 = output (yp)\n",
        "data = pd.read_csv(\"data.txt\")\n",
        "t = data['time'].values - data['time'].values[0]\n",
        "u = data['u'].values\n",
        "y = data['y'].values\n",
        "\n",
        "m = GEKKO(remote=False)\n",
        "m.time = t; time = m.Var(0); m.Equation(time.dt()==1)\n",
        "\n",
        "K = m.FV(2,lb=0,ub=10);      K.STATUS=1\n",
        "tau = m.FV(3,lb=1,ub=200);  tau.STATUS=1\n",
        "theta_ub = 30 # upper bound to dead-time\n",
        "theta = m.FV(0,lb=0,ub=theta_ub); theta.STATUS=1\n",
        "\n",
        "# add extrapolation points\n",
        "td = np.concatenate((np.linspace(-theta_ub,min(t)-1e-5,5),t))\n",
        "ud = np.concatenate((u[0]*np.ones(5),u))\n",
        "# create cubic spline with t versus u\n",
        "uc = m.Var(u); tc = m.Var(t); m.Equation(tc==time-theta)\n",
        "m.cspline(tc,uc,td,ud,bound_x=False)\n",
        "\n",
        "ym = m.Param(y); yp = m.Var(y)\n",
        "m.Equation(tau*yp.dt()+(yp-y[0])==K*(uc-u[0]))\n",
        "\n",
        "m.Minimize((yp-ym)**2)\n",
        "\n",
        "m.options.IMODE=5\n",
        "m.solve()\n",
        "\n",
        "print('Kp: ', K.value[0])\n",
        "print('taup: ',  tau.value[0])\n",
        "print('thetap: ', theta.value[0])\n",
        "\n",
        "# plot results\n",
        "plt.figure()\n",
        "plt.subplot(2,1,1)\n",
        "plt.plot(t,y,'k.-',lw=2,label='Process Data')\n",
        "plt.plot(t,yp.value,'r--',lw=2,label='Optimized FOPDT')\n",
        "plt.ylabel('Output')\n",
        "plt.legend()\n",
        "plt.subplot(2,1,2)\n",
        "plt.plot(t,u,'b.-',lw=2,label='u')\n",
        "plt.legend()\n",
        "plt.ylabel('Input')\n",
        "plt.show()"
      ]
    },
    {
      "cell_type": "code",
      "execution_count": null,
      "id": "500c34ea-0c3b-41bc-8686-fce21567669c",
      "metadata": {
        "id": "500c34ea-0c3b-41bc-8686-fce21567669c"
      },
      "outputs": [],
      "source": []
    }
  ],
  "metadata": {
    "kernelspec": {
      "display_name": "Python 3 (ipykernel)",
      "language": "python",
      "name": "python3"
    },
    "language_info": {
      "codemirror_mode": {
        "name": "ipython",
        "version": 3
      },
      "file_extension": ".py",
      "mimetype": "text/x-python",
      "name": "python",
      "nbconvert_exporter": "python",
      "pygments_lexer": "ipython3",
      "version": "3.9.7"
    },
    "colab": {
      "provenance": [],
      "include_colab_link": true
    }
  },
  "nbformat": 4,
  "nbformat_minor": 5
}