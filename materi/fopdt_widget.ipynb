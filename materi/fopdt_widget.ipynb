{
  "cells": [
    {
      "cell_type": "markdown",
      "metadata": {
        "id": "view-in-github",
        "colab_type": "text"
      },
      "source": [
        "<a href=\"https://colab.research.google.com/github/arifanwar0243/colabs/blob/main/materi/fopdt_widget.ipynb\" target=\"_parent\"><img src=\"https://colab.research.google.com/assets/colab-badge.svg\" alt=\"Open In Colab\"/></a>"
      ]
    },
    {
      "cell_type": "code",
      "execution_count": 1,
      "metadata": {
        "collapsed": true,
        "id": "MInixEKaDLJJ"
      },
      "outputs": [],
      "source": [
        "import ipywidgets as wg\n",
        "from IPython.display import display \n",
        "import numpy as np\n",
        "%matplotlib inline\n",
        "import matplotlib.pyplot as plt"
      ]
    },
    {
      "cell_type": "code",
      "execution_count": 2,
      "metadata": {
        "id": "klJvNVC_DLJO"
      },
      "outputs": [],
      "source": [
        "def fopdtPlot(K,tau,theta):\n",
        "    n = 100 # time points to plot\n",
        "    t = np.linspace(0,20,100) # create time vector\n",
        "    # create 0 -> 1 step at t=theta\n",
        "    delay = np.empty_like(t)\n",
        "    for i in range(n):\n",
        "        if t[i] < theta:\n",
        "            delay[i] = 0.0\n",
        "        else:\n",
        "            delay[i] = 1.0\n",
        "    # calculate response to step input\n",
        "    x = K * (1.0-np.exp(-(t-theta)/tau))\n",
        "    y = x * delay\n",
        "    # plot response\n",
        "    plt.figure(1,figsize=(15,7))\n",
        "    plt.subplot(1,2,1)\n",
        "    plt.plot(t,y,'k-',linewidth=4,label=r'$y(t)=x(t-\\theta)*S(t-\\theta)$')\n",
        "    plt.legend(loc='best')\n",
        "    plt.ylim([-10,10])\n",
        "    plt.xlim([0,20])\n",
        "    plt.subplot(1,2,2)\n",
        "    plt.plot(t,x,'r--',linewidth=2,label=r'$x(t-\\theta)=K\\;(1-\\exp(-(t-\\theta)/\\tau))$')\n",
        "    plt.plot(t,delay,'g:',linewidth=2,label=r'$S(t-\\theta)$')\n",
        "    plt.xlabel('time')\n",
        "    plt.legend(loc='best')\n",
        "    plt.ylim([-10,10])\n",
        "    plt.xlim([0,20])"
      ]
    },
    {
      "cell_type": "code",
      "execution_count": 3,
      "metadata": {
        "id": "1beXp6KxDLJP",
        "outputId": "53d6906d-454a-400d-d49b-5522fdb77108",
        "colab": {
          "base_uri": "https://localhost:8080/",
          "height": 560,
          "referenced_widgets": [
            "f26a2d4eb35540fea7dd93524c04d50c",
            "8e0d7f3523bc4c3dbc75f190e3ea2fa9",
            "9ef53f5de0c149aa938f5fcec25d1bfc",
            "6b96a0d2487441e880226e6eb8119b69",
            "ecb79ad1a1234047a58338ad78d260f6",
            "e3737cc7c8af4dbab0a28e922d6b94ee",
            "c1f62c4f95ce48af872eb848fa170704",
            "462882db61f24460947e5487dedcecc3",
            "cee5dac612204d83a092882648c7155b",
            "d354b7df5eec44ac961103e49736014f",
            "5fb3da8e93f74cdfaefa2dec17e5ac33",
            "1fccd2e145244c37920cd4ee06598f77",
            "7853e55b8bc34ffb9e115f31dab448bc"
          ]
        }
      },
      "outputs": [
        {
          "output_type": "display_data",
          "data": {
            "text/plain": [
              "interactive(children=(FloatSlider(value=8.0, description='K', max=10.0, min=-10.0), FloatSlider(value=5.0, des…"
            ],
            "application/vnd.jupyter.widget-view+json": {
              "version_major": 2,
              "version_minor": 0,
              "model_id": "f26a2d4eb35540fea7dd93524c04d50c"
            }
          },
          "metadata": {}
        },
        {
          "output_type": "execute_result",
          "data": {
            "text/plain": [
              "<function __main__.fopdtPlot(K, tau, theta)>"
            ]
          },
          "metadata": {},
          "execution_count": 3
        }
      ],
      "source": [
        "K_slide = wg.FloatSlider(value=8.0,min=-10.0,max=10.0,step=0.1)\n",
        "tau_slide = wg.FloatSlider(value=5.0,min=0.1,max=10.0,step=0.1)\n",
        "theta_slide = wg.FloatSlider(value=4.0,min=0.1,max=15.0,step=0.1)\n",
        "wg.interact(fopdtPlot, K=K_slide, tau=tau_slide, theta=theta_slide)"
      ]
    }
  ],
  "metadata": {
    "anaconda-cloud": {},
    "kernelspec": {
      "display_name": "Python 3",
      "language": "python",
      "name": "python3"
    },
    "language_info": {
      "codemirror_mode": {
        "name": "ipython",
        "version": 3
      },
      "file_extension": ".py",
      "mimetype": "text/x-python",
      "name": "python",
      "nbconvert_exporter": "python",
      "pygments_lexer": "ipython3",
      "version": "3.6.0"
    },
    "colab": {
      "provenance": [],
      "include_colab_link": true
    },
    "widgets": {
      "application/vnd.jupyter.widget-state+json": {
        "f26a2d4eb35540fea7dd93524c04d50c": {
          "model_module": "@jupyter-widgets/controls",
          "model_name": "VBoxModel",
          "model_module_version": "1.5.0",
          "state": {
            "_dom_classes": [
              "widget-interact"
            ],
            "_model_module": "@jupyter-widgets/controls",
            "_model_module_version": "1.5.0",
            "_model_name": "VBoxModel",
            "_view_count": null,
            "_view_module": "@jupyter-widgets/controls",
            "_view_module_version": "1.5.0",
            "_view_name": "VBoxView",
            "box_style": "",
            "children": [
              "IPY_MODEL_8e0d7f3523bc4c3dbc75f190e3ea2fa9",
              "IPY_MODEL_9ef53f5de0c149aa938f5fcec25d1bfc",
              "IPY_MODEL_6b96a0d2487441e880226e6eb8119b69",
              "IPY_MODEL_ecb79ad1a1234047a58338ad78d260f6"
            ],
            "layout": "IPY_MODEL_e3737cc7c8af4dbab0a28e922d6b94ee"
          }
        },
        "8e0d7f3523bc4c3dbc75f190e3ea2fa9": {
          "model_module": "@jupyter-widgets/controls",
          "model_name": "FloatSliderModel",
          "model_module_version": "1.5.0",
          "state": {
            "_dom_classes": [],
            "_model_module": "@jupyter-widgets/controls",
            "_model_module_version": "1.5.0",
            "_model_name": "FloatSliderModel",
            "_view_count": null,
            "_view_module": "@jupyter-widgets/controls",
            "_view_module_version": "1.5.0",
            "_view_name": "FloatSliderView",
            "continuous_update": true,
            "description": "K",
            "description_tooltip": null,
            "disabled": false,
            "layout": "IPY_MODEL_c1f62c4f95ce48af872eb848fa170704",
            "max": 10,
            "min": -10,
            "orientation": "horizontal",
            "readout": true,
            "readout_format": ".2f",
            "step": 0.1,
            "style": "IPY_MODEL_462882db61f24460947e5487dedcecc3",
            "value": 0.1
          }
        },
        "9ef53f5de0c149aa938f5fcec25d1bfc": {
          "model_module": "@jupyter-widgets/controls",
          "model_name": "FloatSliderModel",
          "model_module_version": "1.5.0",
          "state": {
            "_dom_classes": [],
            "_model_module": "@jupyter-widgets/controls",
            "_model_module_version": "1.5.0",
            "_model_name": "FloatSliderModel",
            "_view_count": null,
            "_view_module": "@jupyter-widgets/controls",
            "_view_module_version": "1.5.0",
            "_view_name": "FloatSliderView",
            "continuous_update": true,
            "description": "tau",
            "description_tooltip": null,
            "disabled": false,
            "layout": "IPY_MODEL_cee5dac612204d83a092882648c7155b",
            "max": 10,
            "min": 0.1,
            "orientation": "horizontal",
            "readout": true,
            "readout_format": ".2f",
            "step": 0.1,
            "style": "IPY_MODEL_d354b7df5eec44ac961103e49736014f",
            "value": 6.4
          }
        },
        "6b96a0d2487441e880226e6eb8119b69": {
          "model_module": "@jupyter-widgets/controls",
          "model_name": "FloatSliderModel",
          "model_module_version": "1.5.0",
          "state": {
            "_dom_classes": [],
            "_model_module": "@jupyter-widgets/controls",
            "_model_module_version": "1.5.0",
            "_model_name": "FloatSliderModel",
            "_view_count": null,
            "_view_module": "@jupyter-widgets/controls",
            "_view_module_version": "1.5.0",
            "_view_name": "FloatSliderView",
            "continuous_update": true,
            "description": "theta",
            "description_tooltip": null,
            "disabled": false,
            "layout": "IPY_MODEL_5fb3da8e93f74cdfaefa2dec17e5ac33",
            "max": 15,
            "min": 0.1,
            "orientation": "horizontal",
            "readout": true,
            "readout_format": ".2f",
            "step": 0.1,
            "style": "IPY_MODEL_1fccd2e145244c37920cd4ee06598f77",
            "value": 9.6
          }
        },
        "ecb79ad1a1234047a58338ad78d260f6": {
          "model_module": "@jupyter-widgets/output",
          "model_name": "OutputModel",
          "model_module_version": "1.0.0",
          "state": {
            "_dom_classes": [],
            "_model_module": "@jupyter-widgets/output",
            "_model_module_version": "1.0.0",
            "_model_name": "OutputModel",
            "_view_count": null,
            "_view_module": "@jupyter-widgets/output",
            "_view_module_version": "1.0.0",
            "_view_name": "OutputView",
            "layout": "IPY_MODEL_7853e55b8bc34ffb9e115f31dab448bc",
            "msg_id": "",
            "outputs": [
              {
                "output_type": "display_data",
                "data": {
                  "text/plain": "<Figure size 1080x504 with 2 Axes>",
                  "image/png": "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\n"
                },
                "metadata": {
                  "needs_background": "light"
                }
              }
            ]
          }
        },
        "e3737cc7c8af4dbab0a28e922d6b94ee": {
          "model_module": "@jupyter-widgets/base",
          "model_name": "LayoutModel",
          "model_module_version": "1.2.0",
          "state": {
            "_model_module": "@jupyter-widgets/base",
            "_model_module_version": "1.2.0",
            "_model_name": "LayoutModel",
            "_view_count": null,
            "_view_module": "@jupyter-widgets/base",
            "_view_module_version": "1.2.0",
            "_view_name": "LayoutView",
            "align_content": null,
            "align_items": null,
            "align_self": null,
            "border": null,
            "bottom": null,
            "display": null,
            "flex": null,
            "flex_flow": null,
            "grid_area": null,
            "grid_auto_columns": null,
            "grid_auto_flow": null,
            "grid_auto_rows": null,
            "grid_column": null,
            "grid_gap": null,
            "grid_row": null,
            "grid_template_areas": null,
            "grid_template_columns": null,
            "grid_template_rows": null,
            "height": null,
            "justify_content": null,
            "justify_items": null,
            "left": null,
            "margin": null,
            "max_height": null,
            "max_width": null,
            "min_height": null,
            "min_width": null,
            "object_fit": null,
            "object_position": null,
            "order": null,
            "overflow": null,
            "overflow_x": null,
            "overflow_y": null,
            "padding": null,
            "right": null,
            "top": null,
            "visibility": null,
            "width": null
          }
        },
        "c1f62c4f95ce48af872eb848fa170704": {
          "model_module": "@jupyter-widgets/base",
          "model_name": "LayoutModel",
          "model_module_version": "1.2.0",
          "state": {
            "_model_module": "@jupyter-widgets/base",
            "_model_module_version": "1.2.0",
            "_model_name": "LayoutModel",
            "_view_count": null,
            "_view_module": "@jupyter-widgets/base",
            "_view_module_version": "1.2.0",
            "_view_name": "LayoutView",
            "align_content": null,
            "align_items": null,
            "align_self": null,
            "border": null,
            "bottom": null,
            "display": null,
            "flex": null,
            "flex_flow": null,
            "grid_area": null,
            "grid_auto_columns": null,
            "grid_auto_flow": null,
            "grid_auto_rows": null,
            "grid_column": null,
            "grid_gap": null,
            "grid_row": null,
            "grid_template_areas": null,
            "grid_template_columns": null,
            "grid_template_rows": null,
            "height": null,
            "justify_content": null,
            "justify_items": null,
            "left": null,
            "margin": null,
            "max_height": null,
            "max_width": null,
            "min_height": null,
            "min_width": null,
            "object_fit": null,
            "object_position": null,
            "order": null,
            "overflow": null,
            "overflow_x": null,
            "overflow_y": null,
            "padding": null,
            "right": null,
            "top": null,
            "visibility": null,
            "width": null
          }
        },
        "462882db61f24460947e5487dedcecc3": {
          "model_module": "@jupyter-widgets/controls",
          "model_name": "SliderStyleModel",
          "model_module_version": "1.5.0",
          "state": {
            "_model_module": "@jupyter-widgets/controls",
            "_model_module_version": "1.5.0",
            "_model_name": "SliderStyleModel",
            "_view_count": null,
            "_view_module": "@jupyter-widgets/base",
            "_view_module_version": "1.2.0",
            "_view_name": "StyleView",
            "description_width": "",
            "handle_color": null
          }
        },
        "cee5dac612204d83a092882648c7155b": {
          "model_module": "@jupyter-widgets/base",
          "model_name": "LayoutModel",
          "model_module_version": "1.2.0",
          "state": {
            "_model_module": "@jupyter-widgets/base",
            "_model_module_version": "1.2.0",
            "_model_name": "LayoutModel",
            "_view_count": null,
            "_view_module": "@jupyter-widgets/base",
            "_view_module_version": "1.2.0",
            "_view_name": "LayoutView",
            "align_content": null,
            "align_items": null,
            "align_self": null,
            "border": null,
            "bottom": null,
            "display": null,
            "flex": null,
            "flex_flow": null,
            "grid_area": null,
            "grid_auto_columns": null,
            "grid_auto_flow": null,
            "grid_auto_rows": null,
            "grid_column": null,
            "grid_gap": null,
            "grid_row": null,
            "grid_template_areas": null,
            "grid_template_columns": null,
            "grid_template_rows": null,
            "height": null,
            "justify_content": null,
            "justify_items": null,
            "left": null,
            "margin": null,
            "max_height": null,
            "max_width": null,
            "min_height": null,
            "min_width": null,
            "object_fit": null,
            "object_position": null,
            "order": null,
            "overflow": null,
            "overflow_x": null,
            "overflow_y": null,
            "padding": null,
            "right": null,
            "top": null,
            "visibility": null,
            "width": null
          }
        },
        "d354b7df5eec44ac961103e49736014f": {
          "model_module": "@jupyter-widgets/controls",
          "model_name": "SliderStyleModel",
          "model_module_version": "1.5.0",
          "state": {
            "_model_module": "@jupyter-widgets/controls",
            "_model_module_version": "1.5.0",
            "_model_name": "SliderStyleModel",
            "_view_count": null,
            "_view_module": "@jupyter-widgets/base",
            "_view_module_version": "1.2.0",
            "_view_name": "StyleView",
            "description_width": "",
            "handle_color": null
          }
        },
        "5fb3da8e93f74cdfaefa2dec17e5ac33": {
          "model_module": "@jupyter-widgets/base",
          "model_name": "LayoutModel",
          "model_module_version": "1.2.0",
          "state": {
            "_model_module": "@jupyter-widgets/base",
            "_model_module_version": "1.2.0",
            "_model_name": "LayoutModel",
            "_view_count": null,
            "_view_module": "@jupyter-widgets/base",
            "_view_module_version": "1.2.0",
            "_view_name": "LayoutView",
            "align_content": null,
            "align_items": null,
            "align_self": null,
            "border": null,
            "bottom": null,
            "display": null,
            "flex": null,
            "flex_flow": null,
            "grid_area": null,
            "grid_auto_columns": null,
            "grid_auto_flow": null,
            "grid_auto_rows": null,
            "grid_column": null,
            "grid_gap": null,
            "grid_row": null,
            "grid_template_areas": null,
            "grid_template_columns": null,
            "grid_template_rows": null,
            "height": null,
            "justify_content": null,
            "justify_items": null,
            "left": null,
            "margin": null,
            "max_height": null,
            "max_width": null,
            "min_height": null,
            "min_width": null,
            "object_fit": null,
            "object_position": null,
            "order": null,
            "overflow": null,
            "overflow_x": null,
            "overflow_y": null,
            "padding": null,
            "right": null,
            "top": null,
            "visibility": null,
            "width": null
          }
        },
        "1fccd2e145244c37920cd4ee06598f77": {
          "model_module": "@jupyter-widgets/controls",
          "model_name": "SliderStyleModel",
          "model_module_version": "1.5.0",
          "state": {
            "_model_module": "@jupyter-widgets/controls",
            "_model_module_version": "1.5.0",
            "_model_name": "SliderStyleModel",
            "_view_count": null,
            "_view_module": "@jupyter-widgets/base",
            "_view_module_version": "1.2.0",
            "_view_name": "StyleView",
            "description_width": "",
            "handle_color": null
          }
        },
        "7853e55b8bc34ffb9e115f31dab448bc": {
          "model_module": "@jupyter-widgets/base",
          "model_name": "LayoutModel",
          "model_module_version": "1.2.0",
          "state": {
            "_model_module": "@jupyter-widgets/base",
            "_model_module_version": "1.2.0",
            "_model_name": "LayoutModel",
            "_view_count": null,
            "_view_module": "@jupyter-widgets/base",
            "_view_module_version": "1.2.0",
            "_view_name": "LayoutView",
            "align_content": null,
            "align_items": null,
            "align_self": null,
            "border": null,
            "bottom": null,
            "display": null,
            "flex": null,
            "flex_flow": null,
            "grid_area": null,
            "grid_auto_columns": null,
            "grid_auto_flow": null,
            "grid_auto_rows": null,
            "grid_column": null,
            "grid_gap": null,
            "grid_row": null,
            "grid_template_areas": null,
            "grid_template_columns": null,
            "grid_template_rows": null,
            "height": null,
            "justify_content": null,
            "justify_items": null,
            "left": null,
            "margin": null,
            "max_height": null,
            "max_width": null,
            "min_height": null,
            "min_width": null,
            "object_fit": null,
            "object_position": null,
            "order": null,
            "overflow": null,
            "overflow_x": null,
            "overflow_y": null,
            "padding": null,
            "right": null,
            "top": null,
            "visibility": null,
            "width": null
          }
        }
      }
    }
  },
  "nbformat": 4,
  "nbformat_minor": 0
}