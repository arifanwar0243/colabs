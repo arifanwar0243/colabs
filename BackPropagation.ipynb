{
  "nbformat": 4,
  "nbformat_minor": 0,
  "metadata": {
    "colab": {
      "provenance": [],
      "authorship_tag": "ABX9TyPj4NHCi27IS/HxmBqnQSB/",
      "include_colab_link": true
    },
    "kernelspec": {
      "name": "python3",
      "display_name": "Python 3"
    },
    "language_info": {
      "name": "python"
    }
  },
  "cells": [
    {
      "cell_type": "markdown",
      "metadata": {
        "id": "view-in-github",
        "colab_type": "text"
      },
      "source": [
        "<a href=\"https://colab.research.google.com/github/arifanwar0243/colabs/blob/main/BackPropagation.ipynb\" target=\"_parent\"><img src=\"https://colab.research.google.com/assets/colab-badge.svg\" alt=\"Open In Colab\"/></a>"
      ]
    },
    {
      "cell_type": "code",
      "execution_count": 3,
      "metadata": {
        "colab": {
          "base_uri": "https://localhost:8080/"
        },
        "id": "ViGdnRiLw2h-",
        "outputId": "8d959d8f-ea92-440f-ac48-bbce4bdb2a20"
      },
      "outputs": [
        {
          "output_type": "stream",
          "name": "stdout",
          "text": [
            "Input data dimension = (4, 3)\n",
            "Hidden layer weights dimension = (3, 5)\n",
            "Output layer weights dimension = (5, 1)\n",
            "y dimension = (4, 1)\n",
            "Derivative dimension 2 = (4, 1)\n",
            "for iteration #0\n",
            "\n",
            "input :\n",
            "[[0. 0. 1.]\n",
            " [0. 1. 1.]\n",
            " [1. 0. 1.]\n",
            " [1. 1. 1.]]\n",
            "Actual output : \n",
            "[[0.]\n",
            " [1.]\n",
            " [1.]\n",
            " [0.]]\n",
            "Predicted Output :\n",
            "<bound method NeuralNetwork.feedforward of <__main__.NeuralNetwork object at 0x7f6906d674f0>>\n",
            "Dimension of o1 = (4, 5)\n",
            "Derivative of o1 = (4, 5)\n",
            "Dimension of o2 = (4, 1)\n",
            "Loss :\n",
            "0.40734009878458965\n",
            "\n",
            "\n",
            "Dimension of o1 = (4, 5)\n",
            "Derivative of o1 = (4, 5)\n",
            "Dimension of o2 = (4, 1)\n",
            "Dimension of o1 = (4, 5)\n",
            "Derivative of o1 = (4, 5)\n",
            "Dimension of o2 = (4, 1)\n",
            "Dimension of o1 = (4, 5)\n",
            "Derivative of o1 = (4, 5)\n",
            "Dimension of o2 = (4, 1)\n",
            "Dimension of o1 = (4, 5)\n",
            "Derivative of o1 = (4, 5)\n",
            "Dimension of o2 = (4, 1)\n",
            "Dimension of o1 = (4, 5)\n",
            "Derivative of o1 = (4, 5)\n",
            "Dimension of o2 = (4, 1)\n",
            "Dimension of o1 = (4, 5)\n",
            "Derivative of o1 = (4, 5)\n",
            "Dimension of o2 = (4, 1)\n",
            "Dimension of o1 = (4, 5)\n",
            "Derivative of o1 = (4, 5)\n",
            "Dimension of o2 = (4, 1)\n",
            "Dimension of o1 = (4, 5)\n",
            "Derivative of o1 = (4, 5)\n",
            "Dimension of o2 = (4, 1)\n",
            "Dimension of o1 = (4, 5)\n",
            "Derivative of o1 = (4, 5)\n",
            "Dimension of o2 = (4, 1)\n",
            "Dimension of o1 = (4, 5)\n",
            "Derivative of o1 = (4, 5)\n",
            "Dimension of o2 = (4, 1)\n"
          ]
        }
      ],
      "source": [
        "import numpy as np\n",
        "\n",
        "# Each row is a training example, each column is a feature [X1, X2, X3]\n",
        "X = np.array(([0,0,1],[0,1,1],[1,0,1],[1,1,1]), dtype=float)\n",
        "y = np.array(([0],[1],[1],[0]), dtype=float)\n",
        "\n",
        "# Define useful functions\n",
        "\n",
        "# Activation function\n",
        "def sigmoid(z):\n",
        "    return 1/(1+np.exp(-z))\n",
        "\n",
        "# Derivative of sigmoid\n",
        "def sigmoid_derivative(z):\n",
        "    return z*(1-z)\n",
        "\n",
        "# Class definition\n",
        "class NeuralNetwork:\n",
        "    def __init__(self, x, y, nNode):\n",
        "        self.input = x\n",
        "        print(\"Input data dimension =\", self.input.shape)\n",
        "        self.weights1 = np.random.rand(self.input.shape[1],nNode)\n",
        "        print(\"Hidden layer weights dimension =\", self.weights1.shape)\n",
        "        # considering we have 4 nodes in the hidden layer\n",
        "        self.weights2 = np.random.rand(nNode,1)\n",
        "        print(\"Output layer weights dimension =\", self.weights2.shape)\n",
        "        self.y = y\n",
        "        print(\"y dimension =\", self.y.shape)\n",
        "        self.output = np.zeros(self.y.shape)\n",
        "        print(\"Derivative dimension 2 =\", sigmoid_derivative(self.output).shape)\n",
        "    \n",
        "    def feedforward(self):\n",
        "        self.layer1 = sigmoid(np.dot(self.input, self.weights1))\n",
        "        print(\"Dimension of o1 =\", self.layer1.shape)\n",
        "        print(\"Derivative of o1 =\", sigmoid_derivative(self.layer1).shape)\n",
        "        self.layer2 = sigmoid(np.dot(self.layer1, self.weights2))\n",
        "        print(\"Dimension of o2 =\", self.layer2.shape)\n",
        "        return self.layer2\n",
        "    \n",
        "    def backprop(self):\n",
        "        d_weights2 = np.dot(self.layer1.T, 2*(self.y - self.output)*\n",
        "                            sigmoid_derivative(self.output))\n",
        "        d_weights1 = np.dot(self.input.T, np.dot(2*(self.y - self.output)*\n",
        "                                                 sigmoid_derivative(self.output), self.weights2.T) * sigmoid_derivative(self.layer1))\n",
        "        self.weights1 += d_weights1\n",
        "        self.weights2 += d_weights2\n",
        "    def train(self,X,y):\n",
        "        self.output = self.feedforward()\n",
        "        self.backprop()\n",
        "hiddenLayerNode = 5\n",
        "NN = NeuralNetwork(X,y,hiddenLayerNode)\n",
        "for i in range(10):\n",
        "  if i%750 == 0: \n",
        "    print('for iteration #'+str(i)+'\\n')\n",
        "    print('input :\\n'+str(X))\n",
        "    print('Actual output : \\n'+str(y))\n",
        "    print('Predicted Output :\\n' + str(NN.feedforward))\n",
        "    print('Loss :\\n'+str(np.mean(np.square(y-NN.feedforward()))))\n",
        "    print('\\n')\n",
        "  NN.train(X,y)\n"
      ]
    }
  ]
}